{
  "nbformat": 4,
  "nbformat_minor": 0,
  "metadata": {
    "colab": {
      "provenance": [],
      "authorship_tag": "ABX9TyOQ/TychwLGAJTPXoYEHEOy",
      "include_colab_link": true
    },
    "kernelspec": {
      "name": "python3",
      "display_name": "Python 3"
    },
    "language_info": {
      "name": "python"
    }
  },
  "cells": [
    {
      "cell_type": "markdown",
      "metadata": {
        "id": "view-in-github",
        "colab_type": "text"
      },
      "source": [
        "<a href=\"https://colab.research.google.com/github/hienngt/IST597_Fall2019_TF2.0/blob/master/Lab1.ipynb\" target=\"_parent\"><img src=\"https://colab.research.google.com/assets/colab-badge.svg\" alt=\"Open In Colab\"/></a>"
      ]
    },
    {
      "cell_type": "code",
      "source": [
        "import time"
      ],
      "metadata": {
        "id": "F_7MmluNlzsB"
      },
      "execution_count": 13,
      "outputs": []
    },
    {
      "cell_type": "code",
      "source": [
        "import tensorflow as tf\n",
        "import matplotlib.pyplot as plt\n",
        "\n",
        "# Enable eager execution\n",
        "tf.compat.v1.enable_eager_execution()\n",
        "\n",
        "# Since i am using google collab so i will don't need to run tf.enable_eager_execution() but let's run it in case to test with other ENV\n",
        "tf.executing_eagerly()"
      ],
      "metadata": {
        "id": "DCrfJoCgmEcQ",
        "colab": {
          "base_uri": "https://localhost:8080/"
        },
        "outputId": "774c7fe5-efd6-4a3c-ccdc-88350e9c4d5d"
      },
      "execution_count": 27,
      "outputs": [
        {
          "output_type": "execute_result",
          "data": {
            "text/plain": [
              "True"
            ]
          },
          "metadata": {},
          "execution_count": 27
        }
      ]
    },
    {
      "cell_type": "code",
      "source": [
        "# Create Sample Data\n",
        "NUM_SAMPLES = 500"
      ],
      "metadata": {
        "id": "Q_QOiWD0q3KE"
      },
      "execution_count": 28,
      "outputs": []
    },
    {
      "cell_type": "code",
      "source": [
        "# Define inputs and outputs with some noise\n",
        "X = tf.random.normal(shape=(NUM_SAMPLES, 1))\n",
        "noise = tf.random.normal(shape=(NUM_SAMPLES, 1))\n",
        "Y = 2 * X + 1 + noise\n",
        "print(f'Output of X and Y: {X[:6]}, {Y[:6]}')"
      ],
      "metadata": {
        "colab": {
          "base_uri": "https://localhost:8080/"
        },
        "collapsed": true,
        "id": "xkjbvFQmsanZ",
        "outputId": "15a66f12-ae81-4e51-a7a7-a3117d19ff5f"
      },
      "execution_count": 38,
      "outputs": [
        {
          "output_type": "stream",
          "name": "stdout",
          "text": [
            "Output of X and Y: [[ 0.9285903]\n",
            " [ 1.5738217]\n",
            " [-0.8634508]\n",
            " [-1.1802421]\n",
            " [-0.6039835]\n",
            " [ 1.0859442]], [[ 3.1165667 ]\n",
            " [ 3.5265033 ]\n",
            " [-2.0707073 ]\n",
            " [-1.4361492 ]\n",
            " [ 0.24193847]\n",
            " [ 0.5627084 ]]\n"
          ]
        }
      ]
    },
    {
      "cell_type": "code",
      "source": [
        "# Create variables with initilize with random\n",
        "W = tf.Variable(tf.random.normal(shape=(1, 1)))\n",
        "print(f'Output of W: {W}')\n",
        "b = tf.Variable(tf.random.normal(shape=(1, 1)))\n",
        "print(f'Output of b: {b}')"
      ],
      "metadata": {
        "colab": {
          "base_uri": "https://localhost:8080/"
        },
        "id": "JKNC62rVtfkf",
        "outputId": "8bd5e144-b5a4-45c2-e5ed-dabe0d996ad2"
      },
      "execution_count": 31,
      "outputs": [
        {
          "output_type": "stream",
          "name": "stdout",
          "text": [
            "Output of W: <tf.Variable 'Variable:0' shape=(1, 1) dtype=float32, numpy=array([[0.87703776]], dtype=float32)>\n",
            "Output of b: <tf.Variable 'Variable:0' shape=(1, 1) dtype=float32, numpy=array([[-1.4220972]], dtype=float32)>\n"
          ]
        }
      ]
    },
    {
      "cell_type": "code",
      "source": [
        "train_steps = 1000\n",
        "learning_rate = 0.01"
      ],
      "metadata": {
        "id": "6GdZQk0Gtyml"
      },
      "execution_count": 69,
      "outputs": []
    },
    {
      "cell_type": "code",
      "source": [
        "# Define the linear predictor\n",
        "def prediction(x):\n",
        "    return W * x + b\n",
        "print(f'First 5 Predictions: {prediction(X[:5]).numpy()}')"
      ],
      "metadata": {
        "colab": {
          "base_uri": "https://localhost:8080/"
        },
        "id": "xcao1zB3t0Os",
        "outputId": "5a1611c6-2539-41b5-ffd7-49b3975ae9e6"
      },
      "execution_count": 39,
      "outputs": [
        {
          "output_type": "stream",
          "name": "stdout",
          "text": [
            "First 5 Predictions: [[-0.6076884 ]\n",
            " [-0.04179621]\n",
            " [-2.1793761 ]\n",
            " [-2.457214  ]\n",
            " [-1.9518136 ]]\n"
          ]
        }
      ]
    },
    {
      "cell_type": "code",
      "source": [
        "# Mean Squared Error (MSE)\n",
        "def squared_loss(y, y_predicted):\n",
        "    return tf.reduce_mean(tf.square(y - y_predicted))\n",
        "print(f'MSE: {squared_loss(Y, prediction(X)).numpy()}')"
      ],
      "metadata": {
        "colab": {
          "base_uri": "https://localhost:8080/"
        },
        "id": "zSM9uycHubJk",
        "outputId": "02f1448d-1cb4-4def-f4e0-3d2c1a9ba57b"
      },
      "execution_count": 45,
      "outputs": [
        {
          "output_type": "stream",
          "name": "stdout",
          "text": [
            "MSE: 8.074594497680664\n"
          ]
        }
      ]
    },
    {
      "cell_type": "code",
      "source": [
        "# Huber Loss\n",
        "def huber_loss(y, y_predicted, delta=1.0):\n",
        "    residual = tf.abs(y - y_predicted)\n",
        "    return tf.reduce_mean(\n",
        "        tf.where(residual < delta, 0.5 * tf.square(residual), delta * (residual - 0.5 * delta))\n",
        "    )\n",
        "print(f'Huber Loss: {huber_loss(Y, prediction(X)).numpy()}')"
      ],
      "metadata": {
        "colab": {
          "base_uri": "https://localhost:8080/"
        },
        "id": "nx67k15XvaAg",
        "outputId": "d8ead239-70f2-4a78-ccd7-41863cebd0f1"
      },
      "execution_count": 46,
      "outputs": [
        {
          "output_type": "stream",
          "name": "stdout",
          "text": [
            "Huber Loss: 2.0126466751098633\n"
          ]
        }
      ]
    },
    {
      "cell_type": "code",
      "source": [
        "optimizer = tf.optimizers.SGD(learning_rate)"
      ],
      "metadata": {
        "id": "II7vvX_6vgVC"
      },
      "execution_count": 74,
      "outputs": []
    },
    {
      "cell_type": "code",
      "source": [
        "print(f'Optimizer: {optimizer.get_config()[\"name\"]}, Learning Rate: {optimizer.get_config()[\"learning_rate\"]}')"
      ],
      "metadata": {
        "colab": {
          "base_uri": "https://localhost:8080/"
        },
        "id": "rGtoYOX9vi5u",
        "outputId": "d83714f0-669a-4dc2-c0e7-ef6b34687157"
      },
      "execution_count": 77,
      "outputs": [
        {
          "output_type": "stream",
          "name": "stdout",
          "text": [
            "Optimizer: SGD, Learning Rate: 0.009999999776482582\n"
          ]
        }
      ]
    },
    {
      "cell_type": "code",
      "source": [
        "# Training loop\n",
        "for i in range(train_steps):\n",
        "    with tf.GradientTape() as g:\n",
        "        Y_pred = prediction(X)  # Get model prediction\n",
        "        loss = huber_loss(Y, Y_pred)  # Compute loss\n",
        "\n",
        "    # Compute gradients\n",
        "    gradients = g.gradient(loss, [W, b])\n",
        "\n",
        "    # Update weights\n",
        "    optimizer.apply_gradients(zip(gradients, [W, b]))\n",
        "\n",
        "    # Print progress\n",
        "    if i % 100 == 0:\n",
        "        print(f\"Step {i}, Loss: {loss.numpy()}, W: {W.numpy()}, b: {b.numpy()}\")"
      ],
      "metadata": {
        "colab": {
          "base_uri": "https://localhost:8080/"
        },
        "id": "s7awxUMAxgDz",
        "outputId": "aec8dbe3-9a8e-4aa2-bddd-a5e2270650f8"
      },
      "execution_count": 61,
      "outputs": [
        {
          "output_type": "stream",
          "name": "stdout",
          "text": [
            "Step 0, Loss: 2.014686107635498, W: [[0.87639654]], b: [[-1.4152594]]\n",
            "Step 100, Loss: 1.3185579776763916, W: [[1.0607728]], b: [[-0.6041163]]\n",
            "Step 200, Loss: 0.8423803448677063, W: [[1.3126519]], b: [[0.03448007]]\n",
            "Step 300, Loss: 0.581343412399292, W: [[1.5607675]], b: [[0.4756119]]\n",
            "Step 400, Loss: 0.47472161054611206, W: [[1.7415487]], b: [[0.7415854]]\n",
            "Step 500, Loss: 0.4399549961090088, W: [[1.8514616]], b: [[0.8877855]]\n",
            "Step 600, Loss: 0.42953193187713623, W: [[1.9144106]], b: [[0.96565807]]\n",
            "Step 700, Loss: 0.42640671133995056, W: [[1.9501837]], b: [[1.0072031]]\n",
            "Step 800, Loss: 0.42547887563705444, W: [[1.9702556]], b: [[1.0293244]]\n",
            "Step 900, Loss: 0.42520612478256226, W: [[1.9813998]], b: [[1.0410565]]\n"
          ]
        }
      ]
    },
    {
      "cell_type": "code",
      "source": [
        "# Plot results\n",
        "plt.scatter(X, Y, color=\"blue\", label=\"Original Data\")\n",
        "plt.plot(X, prediction(X).numpy(), color=\"red\", label=\"Huber Regression Line\")\n",
        "plt.legend()\n",
        "plt.show()"
      ],
      "metadata": {
        "colab": {
          "base_uri": "https://localhost:8080/",
          "height": 430
        },
        "id": "Goks-3v-yo0d",
        "outputId": "5d650c89-7076-40cd-fceb-0d0afac0e30a"
      },
      "execution_count": 64,
      "outputs": [
        {
          "output_type": "display_data",
          "data": {
            "text/plain": [
              "<Figure size 640x480 with 1 Axes>"
            ],
            "image/png": "[encoded data removed]"
          },
          "metadata": {}
        }
      ]
    },
    {
      "cell_type": "code",
      "source": [
        "# Change the loss function and which is the better one and why ?\n",
        "\n",
        "# Store loss history for plotting\n",
        "loss_history_mse = []\n",
        "loss_history_mae = []\n",
        "loss_history_huber = []\n",
        "\n",
        "# Optimizer\n",
        "optimizer = tf.optimizers.SGD(learning_rate)\n",
        "print(f'Optimizer: {optimizer.get_config()[\"name\"]}, Learning Rate: {optimizer.get_config()[\"learning_rate\"]}')"
      ],
      "metadata": {
        "colab": {
          "base_uri": "https://localhost:8080/"
        },
        "id": "jFMuxv040I08",
        "outputId": "9d112127-17c8-450f-fbb1-e15d70395ac9"
      },
      "execution_count": 78,
      "outputs": [
        {
          "output_type": "stream",
          "name": "stdout",
          "text": [
            "Optimizer: SGD, Learning Rate: 0.009999999776482582\n"
          ]
        }
      ]
    },
    {
      "cell_type": "code",
      "source": [
        "# Training loop\n",
        "for i in range(train_steps):\n",
        "    with tf.GradientTape() as g_mse, tf.GradientTape() as g_mae, tf.GradientTape() as g_huber:\n",
        "        Y_pred_mse = prediction(X)\n",
        "        Y_pred_mae = prediction(X)\n",
        "        Y_pred_huber = prediction(X)\n",
        "\n",
        "        loss_mse = squared_loss(Y, Y_pred_mse)\n",
        "        loss_mae = absolute_loss(Y, Y_pred_mae)\n",
        "        loss_huber = huber_loss(Y, Y_pred_huber)\n",
        "\n",
        "    # Compute gradients\n",
        "    gradients_mse = g_mse.gradient(loss_mse, [W, b])\n",
        "    gradients_mae = g_mae.gradient(loss_mae, [W, b])\n",
        "    gradients_huber = g_huber.gradient(loss_huber, [W, b])\n",
        "\n",
        "    # Apply gradients\n",
        "    optimizer.apply_gradients(zip(gradients_mse, [W, b]))\n",
        "    optimizer.apply_gradients(zip(gradients_mae, [W, b]))\n",
        "    optimizer.apply_gradients(zip(gradients_huber, [W, b]))\n",
        "\n",
        "    # Store loss values\n",
        "    loss_history_mse.append(loss_mse.numpy())\n",
        "    loss_history_mae.append(loss_mae.numpy())\n",
        "    loss_history_huber.append(loss_huber.numpy())\n",
        "\n",
        "print(f'Loss History MSE: {loss_history_mse[:5]}')\n",
        "print(f'Loss History MAE: {loss_history_mae[:5]}')\n",
        "print(f'Loss History Huber: {loss_history_huber[:5]}')"
      ],
      "metadata": {
        "colab": {
          "base_uri": "https://localhost:8080/"
        },
        "id": "S1Q2VTYq07ed",
        "outputId": "52426495-2dd4-43f0-a931-6d5f35dbe4e2"
      },
      "execution_count": 82,
      "outputs": [
        {
          "output_type": "stream",
          "name": "stdout",
          "text": [
            "Loss History MSE: [16.998869, 16.198238, 15.434891, 14.707309, 14.013695]\n",
            "Loss History MAE: [3.2743812, 3.1957917, 3.119246, 3.0443864, 2.9711437]\n",
            "Loss History Huber: [2.8048463, 2.727262, 2.6515303, 2.5776334, 2.5055242]\n"
          ]
        }
      ]
    },
    {
      "cell_type": "code",
      "source": [
        "plt.figure(figsize=(8, 6))\n",
        "plt.plot(loss_history_mse, label=\"MSE Loss\")\n",
        "plt.plot(loss_history_mae, label=\"MAE Loss\")\n",
        "plt.plot(loss_history_huber, label=\"Huber Loss\")\n",
        "plt.xlabel(\"Training Steps\")\n",
        "plt.ylabel(\"Loss\")\n",
        "plt.title(\"Loss Comparison: MSE vs MAE vs Huber\")\n",
        "plt.legend()\n",
        "plt.show()"
      ],
      "metadata": {
        "colab": {
          "base_uri": "https://localhost:8080/",
          "height": 564
        },
        "id": "rccgSBxc1peb",
        "outputId": "8d814ca8-000b-4ca4-d69f-1740f9023281"
      },
      "execution_count": 83,
      "outputs": [
        {
          "output_type": "display_data",
          "data": {
            "text/plain": [
              "<Figure size 800x600 with 1 Axes>"
            ],
            "image/png": "[encoded data removed]"
          },
          "metadata": {}
        }
      ]
    },
    {
      "cell_type": "markdown",
      "source": [
        "According to the chart we have:\n",
        "MSE (Blue Line)\n",
        "- We start with highest inital loss.\n",
        "- Coverage slowly but stable.\n",
        "- More sensitive to outlier since it square the error.\n",
        "\n",
        "MAE (Orage Line)\n",
        "- starts lower than MSE.\n",
        "- Coverage slightly faster than MSE.\n",
        "- Less sensitive to ourlier but still be not the best one.\n",
        "\n",
        "Huber Loss (Green Line)\n",
        "- Has Lowest final loss.\n",
        "- Coverage faster than MSE and MAE.\n",
        "- More robust because it combines MSE for small errors and MAE with large errors.\n",
        "\n",
        "- Which one is better?\n",
        "=> Huber Loss is a best choice for this plot , it reaches the lowest final loss , more robust to outliers and converage faster than MSE and MAE"
      ],
      "metadata": {
        "id": "CYXYbV6D19mY"
      }
    }
  ]
}