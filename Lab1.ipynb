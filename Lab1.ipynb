{
  "nbformat": 4,
  "nbformat_minor": 0,
  "metadata": {
    "colab": {
      "provenance": [],
      "authorship_tag": "ABX9TyNNGLys4WbOD66XGj5O5K2B",
      "include_colab_link": true
    },
    "kernelspec": {
      "name": "python3",
      "display_name": "Python 3"
    },
    "language_info": {
      "name": "python"
    }
  },
  "cells": [
    {
      "cell_type": "markdown",
      "metadata": {
        "id": "view-in-github",
        "colab_type": "text"
      },
      "source": [
        "<a href=\"https://colab.research.google.com/github/hienngt/IST597_Fall2019_TF2.0/blob/master/Lab1.ipynb\" target=\"_parent\"><img src=\"https://colab.research.google.com/assets/colab-badge.svg\" alt=\"Open In Colab\"/></a>"
      ]
    },
    {
      "cell_type": "code",
      "source": [
        "import numpy as np\n",
        "import pandas as pd"
      ],
      "metadata": {
        "id": "F_7MmluNlzsB"
      },
      "execution_count": 6,
      "outputs": []
    },
    {
      "cell_type": "code",
      "source": [
        "# Number of data samples\n",
        "num_samples = 10000"
      ],
      "metadata": {
        "id": "DCrfJoCgmEcQ"
      },
      "execution_count": 7,
      "outputs": []
    },
    {
      "cell_type": "code",
      "source": [
        "# Generate random data ( RAND 0 -> 1 )\n",
        "X = np.random.rand(num_samples, 1).astype(np.float32)\n",
        "print(\"Generative X\", X)"
      ],
      "metadata": {
        "colab": {
          "base_uri": "https://localhost:8080/"
        },
        "id": "3uvUPDVUmPvA",
        "outputId": "7609158a-5e40-4203-a53d-df85eaf61f5b"
      },
      "execution_count": 9,
      "outputs": [
        {
          "output_type": "stream",
          "name": "stdout",
          "text": [
            "Generative X [[0.15451467]\n",
            " [0.76854557]\n",
            " [0.99103844]\n",
            " ...\n",
            " [0.8446928 ]\n",
            " [0.7143875 ]\n",
            " [0.48939446]]\n"
          ]
        }
      ]
    },
    {
      "cell_type": "code",
      "source": [
        "# 3X + 2\n",
        "Y = 3 * X + 2 + np.random.normal(0, 0.1, (num_samples, 1)).astype(np.float32)\n",
        "print(\"Generative Y\", Y)"
      ],
      "metadata": {
        "colab": {
          "base_uri": "https://localhost:8080/"
        },
        "id": "vGMb5hzQmlHT",
        "outputId": "e4ebb39c-24a2-41d4-f928-06862e72a46f"
      },
      "execution_count": 11,
      "outputs": [
        {
          "output_type": "stream",
          "name": "stdout",
          "text": [
            "Generative Y [[2.5073206]\n",
            " [4.30841  ]\n",
            " [4.922633 ]\n",
            " ...\n",
            " [4.6059995]\n",
            " [3.9880645]\n",
            " [3.7034764]]\n"
          ]
        }
      ]
    },
    {
      "cell_type": "code",
      "source": [
        "# Initialize model parameters\n",
        "W = tf.Variable(np.random.randn(), name=\"weight\")\n",
        "print(\"model W\" , W)\n",
        "b = tf.Variable(np.random.randn(), name=\"bias\")\n",
        "print(\"model b\", b)"
      ],
      "metadata": {
        "colab": {
          "base_uri": "https://localhost:8080/"
        },
        "id": "t_HZyNS5nHFe",
        "outputId": "fac33a8f-7cb0-4af7-9119-238ee50afcf9"
      },
      "execution_count": 12,
      "outputs": [
        {
          "output_type": "stream",
          "name": "stdout",
          "text": [
            "model W <tf.Variable 'weight:0' shape=() dtype=float32, numpy=-1.4870638847351074>\n",
            "model b <tf.Variable 'bias:0' shape=() dtype=float32, numpy=1.1800391674041748>\n"
          ]
        }
      ]
    }
  ]
}